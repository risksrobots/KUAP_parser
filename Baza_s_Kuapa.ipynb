{
 "cells": [
  {
   "cell_type": "markdown",
   "metadata": {},
   "source": [
    "# Парсер для выгрузки данных с КУАПа"
   ]
  },
  {
   "cell_type": "markdown",
   "metadata": {},
   "source": [
    "Этот код позволяет пользователю совершить выгрузку данных с сайта https://kuap.ru/ за определенный период\n",
    "и добавляет эти данные в указанный файл.\n",
    "\n",
    "Парсер принимает на вход файл(.xls) и передает его столбец в выбранный файл(.xlsx).\n",
    "\n",
    "Если возникает ошибка с импортом библиотеки, вводим команду ! pip install <module_name> --user"
   ]
  },
  {
   "cell_type": "markdown",
   "metadata": {},
   "source": [
    "### Импорт библиотек и модулей"
   ]
  },
  {
   "cell_type": "code",
   "execution_count": 9,
   "metadata": {},
   "outputs": [],
   "source": [
    "from selenium import webdriver\n",
    "from selenium.webdriver.common.by import By\n",
    "import time\n",
    "import os\n",
    "import pandas as pd\n",
    "import numpy as np\n",
    "import glob\n",
    "import win32com.client as win32"
   ]
  },
  {
   "cell_type": "markdown",
   "metadata": {},
   "source": [
    "### Объявление переменных, содержащих название файлов для выгрузки"
   ]
  },
  {
   "cell_type": "code",
   "execution_count": 10,
   "metadata": {},
   "outputs": [],
   "source": [
    "#Итерируемые списки - соответствие ссылок и названий\n",
    "#Месячные данные\n",
    "paths_monthly = ('loans', 'secs_act', 'funds_banks', 'loans_jl_net', 'loans_fl_brt',\n",
    "                 'loans_jl_brt', 'loans_all_net', 'loans_all_brt','stocks_act', 'pifs', 'pifs101', 'other_assets', 'perc2rec',\n",
    "                 'for', 'loro', 'loro_r', 'loro_n', 'customer', 'acct_broker', 'acct_all', 'deps_client_all', 'acct_deps_fl',\n",
    "                 'acct_deps_jl', 'secs_pas', 'bonds_pas', 'bills_pas', 'certs_pas','perc2pay', 'capital', 'warranties', \n",
    "                 'collateral','collateral_goods', 'collateral_securities', 'collateral_metal', 'all_liabilities', \n",
    "                 'convers_turn', 'cash', 'corr_n_all', 'corr_n_cb', 'corr_n_rez', 'corr_n_nerez', 'rez_high_liq','cap', 'ucap',\n",
    "                 'emiss', 'subord', 'rfund', 're', 'reval', 'n4', 'n7', 'pfi','opex', 'c26404', 'c26408', 'staff', 'c26411',\n",
    "                 'roae', 'roaa', 'ci', 'nim', 'ca', 'net_assets', 'bills_act', 'liabilites', 'deps_mbk_all', 'deps_rez',\n",
    "                 'deps_nerez', 'deps_cb', 'rez_mbk', 'loans_fl_net', 'loans_fl', 'loans_fl_over','rez_fl','loans_jl',\n",
    "                 'loans_jl_over','rez_jl', 'loans_all_overdue', 'mortgage_all', 'mortgage_npl', 'loans_all_norm', 'mbk',\n",
    "                 'mbk_cb', 'mbk_rez', 'mbk_nerez', 'deps_jl', 'deps_fl', 'acct_fl', 'acct_jl', 'n2', 'n3','cap123', 'n1',\n",
    "                 'brt_assets', 'high_liq')\n",
    "titles_monthly = ('Кредиты клиентам', 'Ценные бумаги', 'Средства банков', 'Кредиты юрлицам нетто', 'Кредиты физлицам брутто',\n",
    "                  'Кредиты юрлицам брутто', 'Кредиты всем нетто','Кредиты всем брутто','Вложения в акции', \n",
    "                  'Вложения в ПИФ и ДУ(ф135)', 'Вложения в ПИФ и ДУ(ф101)', 'Прочие активы', 'Начисленные проценты', \n",
    "                  'Фонд обязательных резервов', 'Лоро-счета', 'Лоро-счета резиденетов', 'Лоро-счета нерезидентов', \n",
    "                  'Средства клиентов', 'Брокерские счета', 'Текущие средства', 'Срочные средства', 'Средства физлиц',\n",
    "                  'Средства юрлиц', 'Выпущенные ценные бумаги', 'Вложения в облигации', 'Выпущенные векселя', \n",
    "                  'Депозитные сертификаты','Проценты к уплате', 'Собственные средства', 'Выданные гарантии', \n",
    "                  'Обеспечение по кредитам', 'Обеспечение имуществом','Обеспечение ценными бумагами', \n",
    "                  'Обеспечение драг металлами', 'Все обязательства', 'Оборот по конверсии', 'Остатки в кассе и банкоматах', \n",
    "                  'Средства на корр счетах', 'Средства на счете в ЦБ', 'Средства в банках РФ','Средства в иностр банках', \n",
    "                  'Резервы по корр счетам', 'Капитал банка(134)', 'Уставный капитал', 'Эмиссионный доход', \n",
    "                  'Субординированные займы', 'Резервный фонд', 'Нераспределенная прибыль', 'Переоценка имущества','Норматив Н4',\n",
    "                  'Норматив Н7', 'Доход от расчетных срочн сдел', 'Операционные расходы', 'Расходы на рекламу', \n",
    "                  'Расходы на аудит', 'Расходы на персонал', 'Налоги уплаченные(кроме НП)', 'Рентабильность капитала(ROE)',\n",
    "                  'Рентабильность активов(ROA)', 'Cost to Income','Чистая процентная маржа(NIM)', \n",
    "                  'Стоимость активов(Cost to Assets)', 'Активы банка (активы нетто)', 'Вложения в векселя', 'Баланс пассивы',\n",
    "                  'Выданные МБК', 'МБК резидентам', 'МБК нерезидентам', 'Депозиты в ЦБ', 'Резервы по МБК', \n",
    "                  'Кредиты физлицам нетто', 'Кредиты ФЛ непросроч', 'Кредиты ФЛ просрочен', 'Резервы по кредитам ФЛ',\n",
    "                  'Кредиты ЮЛ непросроч','Кредиты ЮЛ просроч','Резервы по кредитам ЮЛ', 'Кредиты всем просроченные', \n",
    "                  'Жилищные кредиты (все)', 'Жилищные кредиты (просроченные)', 'Кредиты всем непросроченные', \n",
    "                  'МБК привлеченные', 'МБК от ЦБ', 'МБК от резидентов', 'МБК от нерезидентов', 'Депозиты юрлиц', \n",
    "                  'Вклады физ лиц', 'Счета физлиц', 'Счета юрлиц', 'Норматив Н2', 'Норматив Н3','Капитал банка 123',\n",
    "                  'Нормативы банка(H1)', 'Активы до вычета резервов', 'Высоколиквидные активы')\n",
    "#Квартальные данные (месяцы 1, 4, 7, 10)\n",
    "paths_quarterly = ('roe', 'net_profit', 'adj_net_profit', 'ytd_profit', 'interest', 'interest_le', 'interest_ind', 'nii', \n",
    "                   'fees', 'fees_docum', 'fees_fcy', 'nci', 'nci_rko', 'fx', 'fx_real', 'fx_reval', 'securities_income', \n",
    "                   'securities_real', 'securities_reval')\n",
    "titles_quarterly = ('Финансовые показатели(roe)', 'Чистая прибыль', 'Скорректированная прибыль', 'Прибыль с начала года', \n",
    "                    'Процентные доходы', 'Процент про кредитам ЮЛ', 'Процент про кредитам ФЛ', 'Чистый процентный доход', \n",
    "                    'Комиссионные доходы', 'Доход по документарным оперциям', 'Доход по валютному контролю', \n",
    "                    'Чистый комиссионный доход', 'Чистый комиссионный доход по РКО', 'Доходы по ин валюте', \n",
    "                    'Реализованные вал доходы', 'Нереализованные вал доходы', 'Доходы по ценным бумагам', \n",
    "                    'Торговый доход по бумагам', 'Переоценка ценных бумаг')"
   ]
  },
  {
   "cell_type": "markdown",
   "metadata": {},
   "source": [
    "### Загрузка файлов"
   ]
  },
  {
   "cell_type": "code",
   "execution_count": 11,
   "metadata": {},
   "outputs": [],
   "source": [
    "# Папку загрузок Телеграмма удалить вручную \n",
    "def clear_folder(path):\n",
    "    \"\"\"Функция чистит директорию загрузок, так как для дальнейшего выполнения программы требуется, чтобы она была пустой.\n",
    "    Принимает в качестве аргумента строку с путем к директории Загрузок, возвращает None.\n",
    "\n",
    "    Параметры\n",
    "    ----------\n",
    "    path : str\n",
    "        путь, позволяющий перейти в директорию загрузок пользователя\n",
    "        \n",
    "    Returns\n",
    "    -------\n",
    "    None\n",
    "    \"\"\"\n",
    "    files = glob.glob(path+'\\\\*')\n",
    "    for f in files:\n",
    "        os.remove(f)"
   ]
  },
  {
   "cell_type": "code",
   "execution_count": 12,
   "metadata": {},
   "outputs": [],
   "source": [
    "# Драйвер браузера устанавливается пользователем вручную \n",
    "path_to_driver = r'C:\\Users\\Nina\\Laba\\\\chromedriver.exe'\n",
    "path_to_kuap = 'https://kuap.ru/banks/ranks/'\n",
    "\n",
    "def download_files(paths, year, month):\n",
    "    \"\"\"Функция выгружает excel-файлы по заданному пути. \n",
    "    Принимает в качестве аргумента список/кортеж, возвращает None.\n",
    "\n",
    "    Параметры\n",
    "    ----------\n",
    "    paths : tuple/list\n",
    "        Пути к необходимым файлам на сайте КУАПа\n",
    "    year : list\n",
    "        список из одного элемента - строка с годом, нужного для выгрузки\n",
    "    month : list\n",
    "        список из одного элемента - строка с месяцем, нужного для выгрузки\n",
    "        \n",
    "    Returns\n",
    "    -------\n",
    "    None\n",
    "    \"\"\"\n",
    "    browser = webdriver.Chrome(executable_path=path_to_driver) # путь к хром драйверу\n",
    "    for q in range(len(year)):\n",
    "        for l in range(len(month)):\n",
    "            browser.get(path_to_kuap + paths + '/na/0-0-0-10000-0-0-0-0-0-0/'\\\n",
    "                        + year[q] + '-' + month[l] + '-01/' + year[q] + '-' + month[l] + '-01/')\n",
    "            button1_xpath = \"//input[@class='btn btn-primary' and @value='Обновить данные']\"\n",
    "            button2_xpath = \"//button[@class='btn btn-default' and @onclick='javascript:submit(this);']\"\n",
    "            click2 = browser.find_element(By.XPATH, button2_xpath);\n",
    "            click2.click()\n",
    "            time.sleep(3) \n",
    "    browser.close()"
   ]
  },
  {
   "cell_type": "code",
   "execution_count": 13,
   "metadata": {},
   "outputs": [],
   "source": [
    "def rename(path):\n",
    "    \"\"\"Функция переименовывает выгруженные файлы. Это необходимо, так как по умолчанию названия файлов\n",
    "    генерируются случайным образом. Принимает в качестве аргумента строку \n",
    "    с путем к директории Загрузок, возвращает None.\n",
    "\n",
    "    Параметры\n",
    "    ----------\n",
    "    path : str\n",
    "        строка с названием пути, позволяющих перейти в директорию загрузок пользователя\n",
    "\n",
    "    Returns\n",
    "    -------\n",
    "    None\n",
    "    \"\"\"\n",
    "    files = os.listdir(path)\n",
    "    count = 1\n",
    "    for file in files:\n",
    "        os.rename(os.path.join(path, file), os.path.join(path, '1 ('+str(count)+').xls'))\n",
    "        count += 1"
   ]
  },
  {
   "cell_type": "markdown",
   "metadata": {},
   "source": [
    "### Добавление новых данных в общий файл"
   ]
  },
  {
   "cell_type": "code",
   "execution_count": 14,
   "metadata": {},
   "outputs": [],
   "source": [
    "path_to_repository = r'C:\\BANKS\\\\'\n",
    "\n",
    "def merge_ex_files1(titles):\n",
    "    \"\"\"Функция объединяет два excel-файла и добавляет в файл из репозитория выгруженные данные. \n",
    "    Принимает в качестве аргумента список/кортеж, возвращает None.\n",
    "\n",
    "    Параметры\n",
    "    ----------\n",
    "    titles : tuple/list\n",
    "        Строки с названиями файлов в директории репозитория\n",
    "        \n",
    "    Returns\n",
    "    -------\n",
    "    None\n",
    "    \"\"\"\n",
    "    df_merge = pd.read_excel(path_to_repository + titles + '.xlsx', header=0)\n",
    "    path_to_file = r'C:\\Users\\Nina\\Downloads\\1 (1).xls'\n",
    "    excel_app = win32.Dispatch('Excel.Application')\n",
    "    wb = excel_app.Workbooks.open(path_to_file)\n",
    "    excel_app.DisplayAlerts = False\n",
    "    wb.Save()\n",
    "    excel_app.quit()\n",
    "    df = pd.read_excel(path_to_file, header=3)\n",
    "    df = df.iloc[:,[1,2,3]]\n",
    "    df_merge = pd.merge(df_merge, df, how=\"outer\", on=[\"Рег. №\", \"Название банка\"]) #включаем также значения, которые отсутствуют или не совпадают\n",
    "    df_merge = df_merge.replace(to_replace=np.nan, value=0)\n",
    "    df_merge.drop_duplicates()\n",
    "    del df\n",
    "    df_merge.sort_values(by=\"Рег. №\", ascending=True, inplace=True)\n",
    "    df_merge.to_excel(path_to_repository + titles +'.xlsx', index=False)"
   ]
  },
  {
   "cell_type": "markdown",
   "metadata": {},
   "source": [
    "### Удаление скачанных файлов из Загрузок"
   ]
  },
  {
   "cell_type": "code",
   "execution_count": 15,
   "metadata": {},
   "outputs": [],
   "source": [
    "def delete_files(path):\n",
    "    \"\"\"Функция удаляет скачанный файл из директории \n",
    "       (так как на его месте в директорию скачается другой файл)\n",
    "    \n",
    "    Параметры\n",
    "    ----------\n",
    "    path : str\n",
    "        строка с названием пути, позволяющих перейти в директорию загрузок пользователя\n",
    "        \n",
    "    Returns\n",
    "    -------\n",
    "    None\n",
    "    \"\"\"\n",
    "    files = os.listdir(path)\n",
    "    count = 1\n",
    "    for file in files:\n",
    "        os.remove(os.path.join(path, '1 ('+str(count)+').xls'))\n",
    "        count += 1"
   ]
  },
  {
   "cell_type": "markdown",
   "metadata": {},
   "source": [
    "### Основной код "
   ]
  },
  {
   "cell_type": "code",
   "execution_count": 16,
   "metadata": {},
   "outputs": [
    {
     "name": "stdout",
     "output_type": "stream",
     "text": [
      "Финансовые показатели(roe)   completed\n",
      "Чистая прибыль   completed\n",
      "Скорректированная прибыль   completed\n",
      "Прибыль с начала года   completed\n",
      "Процентные доходы   completed\n",
      "Процент про кредитам ЮЛ   completed\n",
      "Процент про кредитам ФЛ   completed\n",
      "Чистый процентный доход   completed\n",
      "Комиссионные доходы   completed\n",
      "Доход по документарным оперциям   completed\n",
      "Доход по валютному контролю   completed\n",
      "Чистый комиссионный доход   completed\n",
      "Чистый комиссионный доход по РКО   completed\n",
      "Доходы по ин валюте   completed\n",
      "Реализованные вал доходы   completed\n",
      "Нереализованные вал доходы   completed\n",
      "Доходы по ценным бумагам   completed\n",
      "Торговый доход по бумагам   completed\n",
      "Переоценка ценных бумаг   completed\n",
      "Парсинг занял 4.0 минут\n"
     ]
    }
   ],
   "source": [
    "#Год и месяц изменить на требуемые\n",
    "\n",
    "year = ['2022']\n",
    "month = ['01']\n",
    "paths = paths_quarterly\n",
    "titles = titles_quarterly\n",
    "path = r'C:\\Users\\Nina\\Downloads'\n",
    "\n",
    "tic = time.perf_counter()\n",
    "for k in range(len(paths)):\n",
    "    clear_folder(path)\n",
    "    download_files(paths[k], year, month)\n",
    "    rename(path)\n",
    "    merge_ex_files1(titles[k])\n",
    "    delete_files(path)\n",
    "    print(titles[k]+'   completed')\n",
    "toc = time.perf_counter()\n",
    "parsing_time = toc - tic\n",
    "print(f\"Парсинг занял {parsing_time // 60} минут\")"
   ]
  },
  {
   "cell_type": "code",
   "execution_count": null,
   "metadata": {},
   "outputs": [],
   "source": []
  }
 ],
 "metadata": {
  "kernelspec": {
   "display_name": "Python 3",
   "language": "python",
   "name": "python3"
  },
  "language_info": {
   "codemirror_mode": {
    "name": "ipython",
    "version": 3
   },
   "file_extension": ".py",
   "mimetype": "text/x-python",
   "name": "python",
   "nbconvert_exporter": "python",
   "pygments_lexer": "ipython3",
   "version": "3.8.5"
  }
 },
 "nbformat": 4,
 "nbformat_minor": 4
}
